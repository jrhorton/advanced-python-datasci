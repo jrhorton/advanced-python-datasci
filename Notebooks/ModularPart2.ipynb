{
 "cells": [
  {
   "cell_type": "code",
   "execution_count": 1,
   "metadata": {},
   "outputs": [],
   "source": [
    "import my_module\n",
    "\n",
    "features, target = my_module.get_features_and_target(\n",
    "    csv_file='../data/adult-census.csv',\n",
    "    target_col='class',\n",
    ")\n",
    "\n",
    "# Drop education-num as discussed before, because it's redundant.\n",
    "features = features.drop('education-num', axis=1)\n",
    "\n",
    "preprocessor = my_module.make_preprocessor(features)"
   ]
  },
  {
   "cell_type": "code",
   "execution_count": 2,
   "metadata": {},
   "outputs": [],
   "source": [
    "from sklearn.pipeline import make_pipeline\n",
    "from sklearn.linear_model import LogisticRegression\n",
    "from sklearn.ensemble import RandomForestRegressor\n",
    "\n",
    "# If we want a logistic regression\n",
    "model = make_pipeline(preprocessor, LogisticRegression())\n",
    "# or perhaps we prefer a random forest?\n",
    "#model = make_pipeline(RandomForestRegressor())"
   ]
  },
  {
   "cell_type": "code",
   "execution_count": 3,
   "metadata": {},
   "outputs": [
    {
     "data": {
      "text/plain": [
       "Pipeline(steps=[('columntransformer',\n",
       "                 ColumnTransformer(transformers=[('one-hot-encoder',\n",
       "                                                  OneHotEncoder(handle_unknown='ignore'),\n",
       "                                                  Index([], dtype='object')),\n",
       "                                                 ('standard_scaler',\n",
       "                                                  StandardScaler(),\n",
       "                                                  Index(['age', 'capital-gain', 'capital-loss', 'hours-per-week'], dtype='object'))])),\n",
       "                ('logisticregression', LogisticRegression())])"
      ]
     },
     "execution_count": 3,
     "metadata": {},
     "output_type": "execute_result"
    }
   ],
   "source": [
    "model"
   ]
  },
  {
   "cell_type": "code",
   "execution_count": 4,
   "metadata": {},
   "outputs": [
    {
     "data": {
      "text/plain": [
       "0.7988698714274015"
      ]
     },
     "execution_count": 4,
     "metadata": {},
     "output_type": "execute_result"
    }
   ],
   "source": [
    "from sklearn.model_selection import train_test_split\n",
    "\n",
    "# one small addition: the target column is encoded as a string in our data so we need to convert to 1s and 0s.\n",
    "target = target.str.contains('>50K').astype(int)\n",
    "\n",
    "X_train, X_test, y_train, y_test = train_test_split(features, target, random_state=123)\n",
    "\n",
    "# fit our model\n",
    "_ = model.fit(X_train, y_train)\n",
    "\n",
    "# score on test set\n",
    "model.score(X_test, y_test)"
   ]
  },
  {
   "cell_type": "code",
   "execution_count": 5,
   "metadata": {},
   "outputs": [
    {
     "data": {
      "text/plain": [
       "ColumnTransformer(transformers=[('one-hot-encoder',\n",
       "                                 OneHotEncoder(handle_unknown='ignore'),\n",
       "                                 Index(['tailnum', 'type', 'manufacturer', 'model', 'engine'], dtype='object')),\n",
       "                                ('standard_scaler', StandardScaler(),\n",
       "                                 Index(['year', 'engines', 'seats', 'speed'], dtype='object'))])"
      ]
     },
     "execution_count": 5,
     "metadata": {},
     "output_type": "execute_result"
    }
   ],
   "source": [
    "import pandas as pd\n",
    "fake_features = pd.read_csv('../data/planes.csv')\n",
    "preprocessor = my_module.make_preprocessor(fake_features)\n",
    "preprocessor"
   ]
  },
  {
   "cell_type": "code",
   "execution_count": 6,
   "metadata": {},
   "outputs": [
    {
     "data": {
      "text/plain": [
       "0.7806076488412087"
      ]
     },
     "execution_count": 6,
     "metadata": {},
     "output_type": "execute_result"
    }
   ],
   "source": [
    "import my_module\n",
    "from sklearn.preprocessing import Normalizer, OrdinalEncoder\n",
    "\n",
    "features, target = my_module.get_features_and_target(\n",
    "    csv_file='../data/adult-census.csv',\n",
    "    target_col='class',\n",
    ")\n",
    "features = features.drop('education-num', axis=1)\n",
    "target = target.str.contains('>50K').astype(int)\n",
    "\n",
    "preprocessor = my_module.make_preprocessor(features, numeric_preprocessor=Normalizer())\n",
    "model = make_pipeline(preprocessor, LogisticRegression())\n",
    "\n",
    "X_train, X_test, y_train, y_test = train_test_split(features, target, random_state=123)\n",
    "\n",
    "_ = model.fit(X_train, y_train)\n",
    "model.score(X_test, y_test)"
   ]
  }
 ],
 "metadata": {
  "kernelspec": {
   "display_name": "Python 3",
   "language": "python",
   "name": "python3"
  },
  "language_info": {
   "codemirror_mode": {
    "name": "ipython",
    "version": 3
   },
   "file_extension": ".py",
   "mimetype": "text/x-python",
   "name": "python",
   "nbconvert_exporter": "python",
   "pygments_lexer": "ipython3",
   "version": "3.8.5"
  }
 },
 "nbformat": 4,
 "nbformat_minor": 4
}
